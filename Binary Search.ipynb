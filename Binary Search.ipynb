{
 "cells": [
  {
   "cell_type": "code",
   "execution_count": 1,
   "source": [
    "def binary_search(arr, low, high, x):\r\n",
    " \r\n",
    "    # Check base case\r\n",
    "    if high >= low:\r\n",
    " \r\n",
    "        mid = (high + low) // 2\r\n",
    " \r\n",
    "        # If element is present at the middle itself\r\n",
    "        if arr[mid] == x:\r\n",
    "            return mid\r\n",
    " \r\n",
    "        # If element is smaller than mid, then it can only\r\n",
    "        # be present in left subarray\r\n",
    "        elif arr[mid] > x:\r\n",
    "            return binary_search(arr, low, mid - 1, x)\r\n",
    " \r\n",
    "        # Else the element can only be present in right subarray\r\n",
    "        else:\r\n",
    "            return binary_search(arr, mid + 1, high, x)\r\n",
    " \r\n",
    "    else:\r\n",
    "        # Element is not present in the array\r\n",
    "        return -1\r\n",
    " \r\n",
    "# Test array\r\n",
    "arr = [1, 2, 3, 4, 5, 7, 8, 9, 10]\r\n",
    "x = 9\r\n",
    " \r\n",
    "# Function call\r\n",
    "result = binary_search(arr, 0, len(arr)-1, x)\r\n",
    " \r\n",
    "if result != -1:\r\n",
    "    print(\"Element is present at index\", str(result))\r\n",
    "else:\r\n",
    "    print(\"Element is not present in array\")"
   ],
   "outputs": [
    {
     "output_type": "stream",
     "name": "stdout",
     "text": [
      "Element is present at index 3\n"
     ]
    }
   ],
   "metadata": {}
  },
  {
   "cell_type": "code",
   "execution_count": null,
   "source": [],
   "outputs": [],
   "metadata": {}
  }
 ],
 "metadata": {
  "kernelspec": {
   "display_name": "Python 3",
   "language": "python",
   "name": "python3"
  },
  "language_info": {
   "codemirror_mode": {
    "name": "ipython",
    "version": 3
   },
   "file_extension": ".py",
   "mimetype": "text/x-python",
   "name": "python",
   "nbconvert_exporter": "python",
   "pygments_lexer": "ipython3",
   "version": "3.8.8"
  }
 },
 "nbformat": 4,
 "nbformat_minor": 5
}