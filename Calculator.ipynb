{
 "cells": [
  {
   "cell_type": "code",
   "execution_count": 2,
   "id": "d7d50fa0",
   "metadata": {},
   "outputs": [
    {
     "name": "stdout",
     "output_type": "stream",
     "text": [
      "Hey!! This is a Calculator.\n",
      "Pick an Operator : \n",
      " + for Addition \n",
      "- For Subtraction \n",
      "/ for Division \n",
      "* For Multiplication \n",
      "% For Remainder \n",
      "// For Integer Division \n",
      "** For Power \n",
      "Enter Your Choice(+, -, *, /, //, ** : )**\n",
      "Number 1 : 2\n",
      "Number 2 : 2\n",
      "4\n"
     ]
    }
   ],
   "source": [
    "print(\"Hey!! This is a Calculator.\")\n",
    "x = input(\"Pick an Operator : \\n + for Addition \\n- For Subtraction \\n/ for Division \\n* For Multiplication \\n% For Remainder \\n// For Integer Division \\n** For Power \\nEnter Your Choice(+, -, *, /, //, ** : )\")\n",
    "a = int(input(\"Number 1 : \"))\n",
    "b = int(input(\"Number 2 : \"))\n",
    "if x == \"+\":\n",
    "    print(a + b)\n",
    "if x == \"-\":\n",
    "    print(a - b)\n",
    "if x == \"*\":\n",
    "    print(a * b)\n",
    "if x == \"/\":\n",
    "    print(a / b)\n",
    "if x == \"%\":\n",
    "    print(a % b)\n",
    "if x == \"//\":\n",
    "    print(a // b)\n",
    "if x == \"**\":\n",
    "    print(a ** b)"
   ]
  },
  {
   "cell_type": "code",
   "execution_count": null,
   "id": "725c8fc1",
   "metadata": {},
   "outputs": [],
   "source": []
  }
 ],
 "metadata": {
  "kernelspec": {
   "display_name": "Python 3",
   "language": "python",
   "name": "python3"
  },
  "language_info": {
   "codemirror_mode": {
    "name": "ipython",
    "version": 3
   },
   "file_extension": ".py",
   "mimetype": "text/x-python",
   "name": "python",
   "nbconvert_exporter": "python",
   "pygments_lexer": "ipython3",
   "version": "3.8.8"
  }
 },
 "nbformat": 4,
 "nbformat_minor": 5
}
