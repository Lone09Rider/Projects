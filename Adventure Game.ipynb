{
 "cells": [
  {
   "cell_type": "code",
   "execution_count": 5,
   "id": "4a9d8825-ab36-4e7d-976c-e393221f0f0c",
   "metadata": {},
   "outputs": [
    {
     "name": "stdin",
     "output_type": "stream",
     "text": [
      "What's your name? SRJ\n"
     ]
    },
    {
     "name": "stdout",
     "output_type": "stream",
     "text": [
      "\n",
      "OK, SRJ, let's get started. Remember, the following answers are only True or False.\n",
      "\n",
      "Paris is the captial of France.\n"
     ]
    },
    {
     "name": "stdin",
     "output_type": "stream",
     "text": [
      ">>>  f\n"
     ]
    },
    {
     "name": "stdout",
     "output_type": "stream",
     "text": [
      "\n",
      "England is an island.\n"
     ]
    },
    {
     "name": "stdin",
     "output_type": "stream",
     "text": [
      ">>>  t\n"
     ]
    },
    {
     "name": "stdout",
     "output_type": "stream",
     "text": [
      "\n",
      "Northern Ireland isn't part of Great Britian.\n"
     ]
    },
    {
     "name": "stdin",
     "output_type": "stream",
     "text": [
      ">>>  f\n"
     ]
    },
    {
     "name": "stdout",
     "output_type": "stream",
     "text": [
      "\n",
      "Andorra is between France and Spain.\n"
     ]
    },
    {
     "name": "stdin",
     "output_type": "stream",
     "text": [
      ">>>  f\n"
     ]
    },
    {
     "name": "stdout",
     "output_type": "stream",
     "text": [
      "\n",
      "Iran use to be part of the Perisan Empire.\n"
     ]
    },
    {
     "name": "stdin",
     "output_type": "stream",
     "text": [
      ">>>  \n"
     ]
    },
    {
     "name": "stdout",
     "output_type": "stream",
     "text": [
      "\n",
      "Turkmenistan isn't a real country.\n"
     ]
    },
    {
     "name": "stdin",
     "output_type": "stream",
     "text": [
      ">>>  ff\n"
     ]
    },
    {
     "name": "stdout",
     "output_type": "stream",
     "text": [
      "\n",
      "You're finished, SRJ. You got 1 out of 6 correct.\n"
     ]
    }
   ],
   "source": [
    "import time\n",
    "\n",
    "true = [\"T\", \"t\", \"True\"]\n",
    "false = [\"F\", \"f\", \"False\"]\n",
    "correct = 0 #Storing the correct answers\n",
    "\n",
    "name = input (\"What's your name?\") #Storing the user's name\n",
    "\n",
    "print (\"\\nOK, \" +  name +\", let's get started. Remember, the following answers are only True or False.\")\n",
    "time.sleep(2)\n",
    "\n",
    "print (\"\\nParis is the captial of France.\")\n",
    "choice = input(\">>> \")\n",
    "if choice in true:\n",
    "  correct += 1 #If correct, the user gets one point\n",
    "else:\n",
    "  correct += 0\n",
    "  \n",
    "print (\"\\nEngland is an island.\")\n",
    "choice = input(\">>> \")\n",
    "if choice in false:\n",
    "  correct += 1\n",
    "else:\n",
    "  correct += 0  \n",
    "\n",
    "print (\"\\nNorthern Ireland isn't part of Great Britian.\")\n",
    "choice = input(\">>> \")\n",
    "if choice in false:\n",
    "  correct += 1\n",
    "else:\n",
    "  correct += 0 \n",
    "  \n",
    "print (\"\\nAndorra is between France and Spain.\")\n",
    "choice = input(\">>> \")\n",
    "if choice in true:\n",
    "  correct += 1\n",
    "else:\n",
    "  correct += 0  \n",
    "  \n",
    "print (\"\\nIran use to be part of the Perisan Empire.\")\n",
    "choice = input(\">>> \")\n",
    "if choice in true:\n",
    "  correct += 1\n",
    "else:\n",
    "  correct += 0\n",
    "  \n",
    "print (\"\\nTurkmenistan isn't a real country.\")\n",
    "choice = input(\">>> \")\n",
    "if choice in false:\n",
    "  correct += 1\n",
    "else:\n",
    "  correct += 0\n",
    "    \n",
    "print( \"\\nYou're finished, \" + name +\". You got\", correct, \"out of 6 correct.\")"
   ]
  },
  {
   "cell_type": "code",
   "execution_count": null,
   "id": "9da5838f-d28e-47fc-b48b-304f9ad54a47",
   "metadata": {},
   "outputs": [],
   "source": []
  }
 ],
 "metadata": {
  "kernelspec": {
   "display_name": "Python 3",
   "language": "python",
   "name": "python3"
  },
  "language_info": {
   "codemirror_mode": {
    "name": "ipython",
    "version": 3
   },
   "file_extension": ".py",
   "mimetype": "text/x-python",
   "name": "python",
   "nbconvert_exporter": "python",
   "pygments_lexer": "ipython3",
   "version": "3.8.8"
  }
 },
 "nbformat": 4,
 "nbformat_minor": 5
}
