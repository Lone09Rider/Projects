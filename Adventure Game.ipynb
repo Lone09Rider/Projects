{
 "cells": [
  {
   "cell_type": "code",
   "execution_count": 2,
   "source": [
    "import time\r\n",
    "\r\n",
    "true = [\"T\", \"t\", \"True\"]\r\n",
    "false = [\"F\", \"f\", \"False\"]\r\n",
    "correct = 0 #Storing the correct answers\r\n",
    "\r\n",
    "name = input (\"What's your name?\") #Storing the user's name\r\n",
    "\r\n",
    "print (\"\\nOK, \" +  name +\", let's get started. Remember, the following answers are only True or False.\")\r\n",
    "time.sleep(2)\r\n",
    "\r\n",
    "print (\"\\nDelhi is Capital of India.\")\r\n",
    "choice = input(\">>> \")\r\n",
    "if choice in true:\r\n",
    "  correct += 1 \r\n",
    "else:\r\n",
    "  correct += 0\r\n",
    "  \r\n",
    "print (\"\\nPakistan is an island.\")\r\n",
    "choice = input(\">>> \")\r\n",
    "if choice in false:\r\n",
    "  correct += 1\r\n",
    "else:\r\n",
    "  correct += 0  \r\n",
    "\r\n",
    "print (\"\\nNorthern Ireland isn't part of Great Britian.\")\r\n",
    "choice = input(\">>> \")\r\n",
    "if choice in false:\r\n",
    "  correct += 1\r\n",
    "else:\r\n",
    "  correct += 0 \r\n",
    "  \r\n",
    "print (\"\\nAndorra is between France and Spain.\")\r\n",
    "choice = input(\">>> \")\r\n",
    "if choice in true:\r\n",
    "  correct += 1\r\n",
    "else:\r\n",
    "  correct += 0  \r\n",
    "  \r\n",
    "print (\"\\nIran use to be part of the Perisan Empire.\")\r\n",
    "choice = input(\">>> \")\r\n",
    "if choice in true:\r\n",
    "  correct += 1\r\n",
    "else:\r\n",
    "  correct += 0\r\n",
    "  \r\n",
    "print (\"\\nAfganistan is a real country.\")\r\n",
    "choice = input(\">>> \")\r\n",
    "if choice in true:\r\n",
    "  correct += 1\r\n",
    "else:\r\n",
    "  correct += 0\r\n",
    "    \r\n",
    "print( \"\\nYou're finished, \" + name +\". You got\", correct, \"out of 6 correct.\")"
   ],
   "outputs": [
    {
     "output_type": "stream",
     "name": "stdout",
     "text": [
      "\n",
      "OK, SRJ, let's get started. Remember, the following answers are only True or False.\n",
      "\n",
      "Delhi is Capital of India.\n",
      "\n",
      "Pakistan is an island.\n",
      "\n",
      "Northern Ireland isn't part of Great Britian.\n",
      "\n",
      "Andorra is between France and Spain.\n",
      "\n",
      "Iran use to be part of the Perisan Empire.\n",
      "\n",
      "Afganistan is a real country.\n",
      "\n",
      "You're finished, SRJ. You got 3 out of 6 correct.\n"
     ]
    }
   ],
   "metadata": {}
  },
  {
   "cell_type": "code",
   "execution_count": null,
   "source": [],
   "outputs": [],
   "metadata": {}
  }
 ],
 "metadata": {
  "kernelspec": {
   "name": "python3",
   "display_name": "Python 3.8.8 64-bit ('base': conda)"
  },
  "language_info": {
   "codemirror_mode": {
    "name": "ipython",
    "version": 3
   },
   "file_extension": ".py",
   "mimetype": "text/x-python",
   "name": "python",
   "nbconvert_exporter": "python",
   "pygments_lexer": "ipython3",
   "version": "3.8.8"
  },
  "interpreter": {
   "hash": "1a21271f737070ab8d5b20d0141e941c757b06eac988bf782be3072ecbaa575f"
  }
 },
 "nbformat": 4,
 "nbformat_minor": 5
}