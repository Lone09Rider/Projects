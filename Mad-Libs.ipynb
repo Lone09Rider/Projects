{
 "cells": [
  {
   "cell_type": "code",
   "execution_count": 1,
   "id": "8ea34fe5-f5a0-4cf4-ba25-c9ae34cc5e22",
   "metadata": {},
   "outputs": [
    {
     "name": "stdin",
     "output_type": "stream",
     "text": [
      "Enter a color :  Black\n",
      "Enter a Prural Noun : Papers\n",
      "Enter a Celebrity Tom Cruise\n"
     ]
    }
   ],
   "source": [
    "colour = input(\"Enter a color : \")\n",
    "prural_noun = input(\"Enter a Prural Noun :\") \n",
    "celeb = input(\"Enter a Celebrity\")"
   ]
  },
  {
   "cell_type": "code",
   "execution_count": 2,
   "id": "06c8fc18-71d0-47a0-b6a3-9265b25e0116",
   "metadata": {},
   "outputs": [
    {
     "name": "stdout",
     "output_type": "stream",
     "text": [
      "Roses are Black.\n",
      "Papers are blue.\n",
      "I Love Tom Cruise.\n"
     ]
    }
   ],
   "source": [
    "print(\"Roses are {}.\".format(colour))\n",
    "print(\"{} are blue.\".format(prural_noun))\n",
    "print(\"I Love {}.\".format(celeb))"
   ]
  },
  {
   "cell_type": "code",
   "execution_count": null,
   "id": "92195750-6c8b-4e59-925b-191778943772",
   "metadata": {},
   "outputs": [],
   "source": []
  }
 ],
 "metadata": {
  "kernelspec": {
   "display_name": "Python 3",
   "language": "python",
   "name": "python3"
  },
  "language_info": {
   "codemirror_mode": {
    "name": "ipython",
    "version": 3
   },
   "file_extension": ".py",
   "mimetype": "text/x-python",
   "name": "python",
   "nbconvert_exporter": "python",
   "pygments_lexer": "ipython3",
   "version": "3.8.8"
  }
 },
 "nbformat": 4,
 "nbformat_minor": 5
}
