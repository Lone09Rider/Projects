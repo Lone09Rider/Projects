{
 "cells": [
  {
   "cell_type": "code",
   "execution_count": 1,
   "id": "51965e07",
   "metadata": {},
   "outputs": [],
   "source": [
    "import random"
   ]
  },
  {
   "cell_type": "code",
   "execution_count": 2,
   "id": "e0e2a13c",
   "metadata": {},
   "outputs": [],
   "source": [
    "x = [\"Hi\", \"Ram\", \"Sanju\", \"Meenu\"]"
   ]
  },
  {
   "cell_type": "code",
   "execution_count": 3,
   "id": "5edc334f",
   "metadata": {},
   "outputs": [],
   "source": [
    "a = random.choice(x)"
   ]
  },
  {
   "cell_type": "code",
   "execution_count": 4,
   "id": "8c11446c",
   "metadata": {},
   "outputs": [
    {
     "name": "stdout",
     "output_type": "stream",
     "text": [
      "M....\n"
     ]
    }
   ],
   "source": [
    "if a == \"Ram\":\n",
    "    print(\"R...\")\n",
    "if a == \"Hi\":\n",
    "    print(\"Greet\")\n",
    "if a == \"Sanju\":\n",
    "    print(\"S...\")\n",
    "if a == \"Meenu\":\n",
    "    print(\"M....\")"
   ]
  },
  {
   "cell_type": "code",
   "execution_count": 5,
   "id": "63d7870c",
   "metadata": {},
   "outputs": [
    {
     "name": "stdout",
     "output_type": "stream",
     "text": [
      "Enter Your Choice : Meenu\n"
     ]
    }
   ],
   "source": [
    "i = input(\"Enter Your Choice : \")"
   ]
  },
  {
   "cell_type": "code",
   "execution_count": 6,
   "id": "28d3391c",
   "metadata": {},
   "outputs": [
    {
     "name": "stdout",
     "output_type": "stream",
     "text": [
      "Yay! You Win\n"
     ]
    }
   ],
   "source": [
    "if i == a:\n",
    "    print(\"Yay! You Win\")\n",
    "else:\n",
    "    print(\"Sorry :-( You Loose\")"
   ]
  },
  {
   "cell_type": "code",
   "execution_count": null,
   "id": "2eadf193",
   "metadata": {},
   "outputs": [],
   "source": []
  }
 ],
 "metadata": {
  "kernelspec": {
   "display_name": "Python 3",
   "language": "python",
   "name": "python3"
  },
  "language_info": {
   "codemirror_mode": {
    "name": "ipython",
    "version": 3
   },
   "file_extension": ".py",
   "mimetype": "text/x-python",
   "name": "python",
   "nbconvert_exporter": "python",
   "pygments_lexer": "ipython3",
   "version": "3.8.8"
  }
 },
 "nbformat": 4,
 "nbformat_minor": 5
}
