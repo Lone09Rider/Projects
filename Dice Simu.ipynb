{
 "cells": [
  {
   "cell_type": "code",
   "execution_count": null,
   "id": "ceb9177a-d626-4868-8e8a-da3db1bc7596",
   "metadata": {},
   "outputs": [
    {
     "name": "stdout",
     "output_type": "stream",
     "text": [
      "[-----]\n",
      "[ 0   ]\n",
      "[     ]\n",
      "[   0 ]\n",
      "[-----]\n"
     ]
    },
    {
     "name": "stdin",
     "output_type": "stream",
     "text": [
      "press y to roll again and n to exit: y\n"
     ]
    },
    {
     "name": "stdout",
     "output_type": "stream",
     "text": [
      "\n",
      "\n",
      "[-----]\n",
      "[0   0]\n",
      "[  0  ]\n",
      "[0   0]\n",
      "[-----]\n"
     ]
    },
    {
     "name": "stdin",
     "output_type": "stream",
     "text": [
      "press y to roll again and n to exit: y\n"
     ]
    },
    {
     "name": "stdout",
     "output_type": "stream",
     "text": [
      "\n",
      "\n",
      "[-----]\n",
      "[ 0   ]\n",
      "[     ]\n",
      "[   0 ]\n",
      "[-----]\n"
     ]
    },
    {
     "name": "stdin",
     "output_type": "stream",
     "text": [
      "press y to roll again and n to exit: y\n"
     ]
    },
    {
     "name": "stdout",
     "output_type": "stream",
     "text": [
      "\n",
      "\n",
      "[-----]\n",
      "[0 0 0]\n",
      "[     ]\n",
      "[0 0 0]\n",
      "[-----]\n"
     ]
    },
    {
     "name": "stdin",
     "output_type": "stream",
     "text": [
      "press y to roll again and n to exit: y\n"
     ]
    },
    {
     "name": "stdout",
     "output_type": "stream",
     "text": [
      "\n",
      "\n",
      "[-----]\n",
      "[ 0   ]\n",
      "[     ]\n",
      "[   0 ]\n",
      "[-----]\n"
     ]
    },
    {
     "name": "stdin",
     "output_type": "stream",
     "text": [
      "press y to roll again and n to exit: y\n"
     ]
    },
    {
     "name": "stdout",
     "output_type": "stream",
     "text": [
      "\n",
      "\n",
      "[-----]\n",
      "[0 0 0]\n",
      "[     ]\n",
      "[0 0 0]\n",
      "[-----]\n"
     ]
    },
    {
     "name": "stdin",
     "output_type": "stream",
     "text": [
      "press y to roll again and n to exit: y\n"
     ]
    },
    {
     "name": "stdout",
     "output_type": "stream",
     "text": [
      "\n",
      "\n",
      "[-----]\n",
      "[0   0]\n",
      "[  0  ]\n",
      "[0   0]\n",
      "[-----]\n"
     ]
    },
    {
     "name": "stdin",
     "output_type": "stream",
     "text": [
      "press y to roll again and n to exit: y\n"
     ]
    },
    {
     "name": "stdout",
     "output_type": "stream",
     "text": [
      "\n",
      "\n",
      "[-----]\n",
      "[0   0]\n",
      "[     ]\n",
      "[0   0]\n",
      "[-----]\n"
     ]
    }
   ],
   "source": [
    "import random\n",
    "  \n",
    "  \n",
    "x = \"y\"\n",
    "   \n",
    "while x == \"y\":\n",
    "      \n",
    "    # Gnenerates a random number\n",
    "    # between 1 and 6 (including\n",
    "    # both 1 and 6)\n",
    "    no = random.randint(1,6)\n",
    "      \n",
    "    if no == 1:\n",
    "        print(\"[-----]\")\n",
    "        print(\"[     ]\")\n",
    "        print(\"[  0  ]\")\n",
    "        print(\"[     ]\")\n",
    "        print(\"[-----]\")\n",
    "    if no == 2:\n",
    "        print(\"[-----]\")\n",
    "        print(\"[ 0   ]\")\n",
    "        print(\"[     ]\")\n",
    "        print(\"[   0 ]\")\n",
    "        print(\"[-----]\")\n",
    "    if no == 3:\n",
    "        print(\"[-----]\")\n",
    "        print(\"[     ]\")\n",
    "        print(\"[0 0 0]\")\n",
    "        print(\"[     ]\")\n",
    "        print(\"[-----]\")\n",
    "    if no == 4:\n",
    "        print(\"[-----]\")\n",
    "        print(\"[0   0]\")\n",
    "        print(\"[     ]\")\n",
    "        print(\"[0   0]\")\n",
    "        print(\"[-----]\")\n",
    "    if no == 5:\n",
    "        print(\"[-----]\")\n",
    "        print(\"[0   0]\")\n",
    "        print(\"[  0  ]\")\n",
    "        print(\"[0   0]\")\n",
    "        print(\"[-----]\")\n",
    "    if no == 6:\n",
    "        print(\"[-----]\")\n",
    "        print(\"[0 0 0]\")\n",
    "        print(\"[     ]\")\n",
    "        print(\"[0 0 0]\")\n",
    "        print(\"[-----]\")\n",
    "          \n",
    "    x=input(\"press y to roll again and n to exit:\")\n",
    "    print(\"\\n\")"
   ]
  },
  {
   "cell_type": "code",
   "execution_count": null,
   "id": "afc285e0-f2e0-4ebe-8c11-368573390e0d",
   "metadata": {},
   "outputs": [],
   "source": []
  }
 ],
 "metadata": {
  "kernelspec": {
   "display_name": "Python 3",
   "language": "python",
   "name": "python3"
  },
  "language_info": {
   "codemirror_mode": {
    "name": "ipython",
    "version": 3
   },
   "file_extension": ".py",
   "mimetype": "text/x-python",
   "name": "python",
   "nbconvert_exporter": "python",
   "pygments_lexer": "ipython3",
   "version": "3.8.8"
  }
 },
 "nbformat": 4,
 "nbformat_minor": 5
}
